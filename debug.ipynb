{
 "cells": [
  {
   "cell_type": "code",
   "execution_count": 8,
   "metadata": {
    "autoscroll": false,
    "collapsed": false,
    "ein.hycell": false,
    "ein.tags": "worksheet-0",
    "slideshow": {
     "slide_type": "-"
    }
   },
   "outputs": [
    {
     "name": "stdout",
     "output_type": "stream",
     "text": [
      "Populating the interactive namespace from numpy and matplotlib\n"
     ]
    },
    {
     "name": "stderr",
     "output_type": "stream",
     "text": [
      "/camp/home/tootoos/working/tootoos/conda-envs/py38/lib/python3.8/site-packages/IPython/core/magics/pylab.py:159: UserWarning: pylab import has clobbered these variables: ['load', 'f']\n",
      "`%matplotlib` prevents importing * from pylab and numpy\n",
      "  warn(\"pylab import has clobbered these variables: %s\"  % clobbered +\n"
     ]
    }
   ],
   "source": [
    "%pylab inline\n",
    "import os,sys,re\n",
    "import pickle\n",
    "from builtins import sum as bsum\n",
    "from importlib import reload\n"
   ]
  },
  {
   "cell_type": "code",
   "execution_count": 10,
   "metadata": {
    "autoscroll": false,
    "collapsed": false,
    "ein.hycell": false,
    "ein.tags": "worksheet-0",
    "slideshow": {
     "slide_type": "-"
    }
   },
   "outputs": [],
   "source": [
    "import units; reload(units); UNITS = units.UNITS; "
   ]
  },
  {
   "cell_type": "code",
   "execution_count": 19,
   "metadata": {
    "autoscroll": false,
    "collapsed": false,
    "ein.hycell": false,
    "ein.tags": "worksheet-0",
    "slideshow": {
     "slide_type": "-"
    }
   },
   "outputs": [],
   "source": [
    "HZ = UNITS.Hz\n",
    "SEC= UNITS.s\n",
    "M  = UNITS.m\n",
    "UM = UNITS.um\n"
   ]
  },
  {
   "cell_type": "code",
   "execution_count": 11,
   "metadata": {
    "autoscroll": false,
    "collapsed": false,
    "ein.hycell": false,
    "ein.tags": "worksheet-0",
    "slideshow": {
     "slide_type": "-"
    }
   },
   "outputs": [
    {
     "name": "stderr",
     "output_type": "stream",
     "text": [
      "INFO:surrogate:Surrogate simulation data available for: ['no_info', 'one_info', 'two_info', 'high', 'spike_and_slab', 'blue', 'red', 'all_equal']\n"
     ]
    }
   ],
   "source": [
    "import surrogate; reload(surrogate)\n",
    "import fisher_plumes_tools as fpt;      reload(fpt)\n",
    "import fisher_plumes as fp;             reload(fp)\n",
    "import utils; reload(utils);\n",
    "import proc; reload(proc);"
   ]
  },
  {
   "cell_type": "code",
   "execution_count": 68,
   "metadata": {
    "autoscroll": false,
    "collapsed": false,
    "ein.hycell": false,
    "ein.tags": "worksheet-0",
    "slideshow": {
     "slide_type": "-"
    }
   },
   "outputs": [
    {
     "name": "stderr",
     "output_type": "stream",
     "text": [
      "                    proc 2023/09/27 08:57:48     INFO: Loading init_filter={'sim_name': 'surr_all_equal', 'surrogate_k': 4, 'method': 0, 'random_seed': 0} compute_filter={'window_shape': 'hann', 'window_length': <Quantity(1, 'second')>, 'fit_k': True} from proc/sup.meth.00/71208a4302da978a.p, last modified 2023-09-27 08:18:24.\n"
     ]
    },
    {
     "name": "stdout",
     "output_type": "stream",
     "text": [
      "Loading data for method 0 and seed 0\n"
     ]
    },
    {
     "name": "stderr",
     "output_type": "stream",
     "text": [
      "                    proc 2023/09/27 08:57:48     INFO: Returning 1 results.\n"
     ]
    },
    {
     "name": "stderr",
     "output_type": "stream",
     "text": [
      "                    proc 2023/09/27 08:57:48     INFO: Loading init_filter={'sim_name': 'surr_all_equal', 'surrogate_k': 4, 'method': 0, 'random_seed': 1} compute_filter={'window_shape': 'hann', 'window_length': <Quantity(1, 'second')>, 'fit_k': True} from proc/sup.meth.01/125f7a0924d72de0.p, last modified 2023-09-27 08:18:20.\n"
     ]
    },
    {
     "name": "stdout",
     "output_type": "stream",
     "text": [
      "Loading data for method 0 and seed 1\n"
     ]
    },
    {
     "name": "stderr",
     "output_type": "stream",
     "text": [
      "                    proc 2023/09/27 08:57:49     INFO: Returning 1 results.\n"
     ]
    },
    {
     "name": "stderr",
     "output_type": "stream",
     "text": [
      "                    proc 2023/09/27 08:57:49     INFO: Loading init_filter={'sim_name': 'surr_all_equal', 'surrogate_k': 4, 'method': 0, 'random_seed': 2} compute_filter={'window_shape': 'hann', 'window_length': <Quantity(1, 'second')>, 'fit_k': True} from proc/sup.meth.02/214b2e8b63447361.p, last modified 2023-09-27 08:17:49.\n"
     ]
    },
    {
     "name": "stdout",
     "output_type": "stream",
     "text": [
      "Loading data for method 0 and seed 2\n"
     ]
    },
    {
     "name": "stderr",
     "output_type": "stream",
     "text": [
      "                    proc 2023/09/27 08:57:49     INFO: Returning 1 results.\n"
     ]
    },
    {
     "name": "stderr",
     "output_type": "stream",
     "text": [
      "                    proc 2023/09/27 08:57:49     INFO: Loading init_filter={'sim_name': 'surr_all_equal', 'surrogate_k': 4, 'method': 0, 'random_seed': 3} compute_filter={'window_shape': 'hann', 'window_length': <Quantity(1, 'second')>, 'fit_k': True} from proc/sup.meth.03/d8e1595aaf13c85c.p, last modified 2023-09-27 08:17:50.\n"
     ]
    },
    {
     "name": "stdout",
     "output_type": "stream",
     "text": [
      "Loading data for method 0 and seed 3\n"
     ]
    },
    {
     "name": "stderr",
     "output_type": "stream",
     "text": [
      "                    proc 2023/09/27 08:57:49     INFO: Returning 1 results.\n"
     ]
    },
    {
     "name": "stderr",
     "output_type": "stream",
     "text": [
      "                    proc 2023/09/27 08:57:49     INFO: Loading init_filter={'sim_name': 'surr_all_equal', 'surrogate_k': 4, 'method': 0, 'random_seed': 4} compute_filter={'window_shape': 'hann', 'window_length': <Quantity(1, 'second')>, 'fit_k': True} from proc/sup.meth.04/ba0baef512062843.p, last modified 2023-09-27 08:18:11.\n"
     ]
    },
    {
     "name": "stdout",
     "output_type": "stream",
     "text": [
      "Loading data for method 0 and seed 4\n"
     ]
    },
    {
     "name": "stderr",
     "output_type": "stream",
     "text": [
      "                    proc 2023/09/27 08:57:49     INFO: Returning 1 results.\n"
     ]
    },
    {
     "name": "stderr",
     "output_type": "stream",
     "text": [
      "                    proc 2023/09/27 08:57:49     INFO: Loading init_filter={'sim_name': 'surr_all_equal', 'surrogate_k': 4, 'method': 0, 'random_seed': 5} compute_filter={'window_shape': 'hann', 'window_length': <Quantity(1, 'second')>, 'fit_k': True} from proc/sup.meth.05/572896233b8c3011.p, last modified 2023-09-27 08:18:16.\n"
     ]
    },
    {
     "name": "stdout",
     "output_type": "stream",
     "text": [
      "Loading data for method 0 and seed 5\n"
     ]
    },
    {
     "name": "stderr",
     "output_type": "stream",
     "text": [
      "                    proc 2023/09/27 08:57:49     INFO: Returning 1 results.\n"
     ]
    },
    {
     "name": "stderr",
     "output_type": "stream",
     "text": [
      "                    proc 2023/09/27 08:57:49     INFO: Loading init_filter={'sim_name': 'surr_all_equal', 'surrogate_k': 4, 'method': 0, 'random_seed': 6} compute_filter={'window_shape': 'hann', 'window_length': <Quantity(1, 'second')>, 'fit_k': True} from proc/sup.meth.06/dec92b1a34240412.p, last modified 2023-09-27 08:19:00.\n"
     ]
    },
    {
     "name": "stdout",
     "output_type": "stream",
     "text": [
      "Loading data for method 0 and seed 6\n"
     ]
    },
    {
     "name": "stderr",
     "output_type": "stream",
     "text": [
      "                    proc 2023/09/27 08:57:50     INFO: Returning 1 results.\n"
     ]
    },
    {
     "name": "stderr",
     "output_type": "stream",
     "text": [
      "                    proc 2023/09/27 08:57:50     INFO: Loading init_filter={'sim_name': 'surr_all_equal', 'surrogate_k': 4, 'method': 0, 'random_seed': 7} compute_filter={'window_shape': 'hann', 'window_length': <Quantity(1, 'second')>, 'fit_k': True} from proc/sup.meth.07/d2eaea531b0f1fc3.p, last modified 2023-09-27 08:18:22.\n"
     ]
    },
    {
     "name": "stdout",
     "output_type": "stream",
     "text": [
      "Loading data for method 0 and seed 7\n"
     ]
    },
    {
     "name": "stderr",
     "output_type": "stream",
     "text": [
      "                    proc 2023/09/27 08:57:50     INFO: Returning 1 results.\n"
     ]
    },
    {
     "name": "stderr",
     "output_type": "stream",
     "text": [
      "                    proc 2023/09/27 08:57:50     INFO: Loading init_filter={'sim_name': 'surr_all_equal', 'surrogate_k': 4, 'method': 0, 'random_seed': 8} compute_filter={'window_shape': 'hann', 'window_length': <Quantity(1, 'second')>, 'fit_k': True} from proc/sup.meth.08/a0a129ef5b6373d7.p, last modified 2023-09-27 08:18:27.\n"
     ]
    },
    {
     "name": "stdout",
     "output_type": "stream",
     "text": [
      "Loading data for method 0 and seed 8\n"
     ]
    },
    {
     "name": "stderr",
     "output_type": "stream",
     "text": [
      "                    proc 2023/09/27 08:57:50     INFO: Returning 1 results.\n"
     ]
    },
    {
     "name": "stderr",
     "output_type": "stream",
     "text": [
      "                    proc 2023/09/27 08:57:50     INFO: Loading init_filter={'sim_name': 'surr_all_equal', 'surrogate_k': 4, 'method': 0, 'random_seed': 9} compute_filter={'window_shape': 'hann', 'window_length': <Quantity(1, 'second')>, 'fit_k': True} from proc/sup.meth.09/8bcb592e716ef3e3.p, last modified 2023-09-27 08:18:37.\n"
     ]
    },
    {
     "name": "stdout",
     "output_type": "stream",
     "text": [
      "Loading data for method 0 and seed 9\n"
     ]
    },
    {
     "name": "stderr",
     "output_type": "stream",
     "text": [
      "                    proc 2023/09/27 08:57:50     INFO: Returning 1 results.\n"
     ]
    },
    {
     "name": "stderr",
     "output_type": "stream",
     "text": [
      "                    proc 2023/09/27 08:57:50     INFO: Loading init_filter={'sim_name': 'surr_all_equal', 'surrogate_k': 4, 'method': 0, 'random_seed': 10} compute_filter={'window_shape': 'hann', 'window_length': <Quantity(1, 'second')>, 'fit_k': True} from proc/sup.meth.010/02520f6e4ed59d3f.p, last modified 2023-09-27 08:18:27.\n"
     ]
    },
    {
     "name": "stdout",
     "output_type": "stream",
     "text": [
      "Loading data for method 0 and seed 10\n"
     ]
    },
    {
     "name": "stderr",
     "output_type": "stream",
     "text": [
      "                    proc 2023/09/27 08:57:50     INFO: Returning 1 results.\n"
     ]
    },
    {
     "name": "stderr",
     "output_type": "stream",
     "text": [
      "                    proc 2023/09/27 08:57:50     INFO: Loading init_filter={'sim_name': 'surr_all_equal', 'surrogate_k': 4, 'method': 0, 'random_seed': 11} compute_filter={'window_shape': 'hann', 'window_length': <Quantity(1, 'second')>, 'fit_k': True} from proc/sup.meth.011/d95051fdae8a51aa.p, last modified 2023-09-27 08:18:30.\n"
     ]
    },
    {
     "name": "stdout",
     "output_type": "stream",
     "text": [
      "Loading data for method 0 and seed 11\n"
     ]
    },
    {
     "name": "stderr",
     "output_type": "stream",
     "text": [
      "                    proc 2023/09/27 08:57:51     INFO: Returning 1 results.\n"
     ]
    },
    {
     "name": "stderr",
     "output_type": "stream",
     "text": [
      "                    proc 2023/09/27 08:57:51     INFO: Loading init_filter={'sim_name': 'surr_all_equal', 'surrogate_k': 4, 'method': 0, 'random_seed': 12} compute_filter={'window_shape': 'hann', 'window_length': <Quantity(1, 'second')>, 'fit_k': True} from proc/sup.meth.012/26969fd3b4d303e6.p, last modified 2023-09-27 08:18:31.\n"
     ]
    },
    {
     "name": "stdout",
     "output_type": "stream",
     "text": [
      "Loading data for method 0 and seed 12\n"
     ]
    },
    {
     "name": "stderr",
     "output_type": "stream",
     "text": [
      "                    proc 2023/09/27 08:57:51     INFO: Returning 1 results.\n"
     ]
    },
    {
     "name": "stderr",
     "output_type": "stream",
     "text": [
      "                    proc 2023/09/27 08:57:51     INFO: Loading init_filter={'sim_name': 'surr_all_equal', 'surrogate_k': 4, 'method': 0, 'random_seed': 13} compute_filter={'window_shape': 'hann', 'window_length': <Quantity(1, 'second')>, 'fit_k': True} from proc/sup.meth.013/8a2e9558e9232fc2.p, last modified 2023-09-27 08:18:24.\n"
     ]
    },
    {
     "name": "stdout",
     "output_type": "stream",
     "text": [
      "Loading data for method 0 and seed 13\n"
     ]
    },
    {
     "name": "stderr",
     "output_type": "stream",
     "text": [
      "                    proc 2023/09/27 08:57:54     INFO: Returning 1 results.\n"
     ]
    },
    {
     "name": "stderr",
     "output_type": "stream",
     "text": [
      "                    proc 2023/09/27 08:57:54     INFO: Loading init_filter={'sim_name': 'surr_all_equal', 'surrogate_k': 4, 'method': 0, 'random_seed': 14} compute_filter={'window_shape': 'hann', 'window_length': <Quantity(1, 'second')>, 'fit_k': True} from proc/sup.meth.014/ca40bbdae16efda4.p, last modified 2023-09-27 08:18:36.\n"
     ]
    },
    {
     "name": "stdout",
     "output_type": "stream",
     "text": [
      "Loading data for method 0 and seed 14\n"
     ]
    },
    {
     "name": "stderr",
     "output_type": "stream",
     "text": [
      "                    proc 2023/09/27 08:57:54     INFO: Returning 1 results.\n"
     ]
    },
    {
     "name": "stderr",
     "output_type": "stream",
     "text": [
      "                    proc 2023/09/27 08:57:54     INFO: Loading init_filter={'sim_name': 'surr_all_equal', 'surrogate_k': 4, 'method': 0, 'random_seed': 15} compute_filter={'window_shape': 'hann', 'window_length': <Quantity(1, 'second')>, 'fit_k': True} from proc/sup.meth.015/ef8499aa5a11bdf0.p, last modified 2023-09-27 08:18:08.\n"
     ]
    },
    {
     "name": "stdout",
     "output_type": "stream",
     "text": [
      "Loading data for method 0 and seed 15\n"
     ]
    },
    {
     "name": "stderr",
     "output_type": "stream",
     "text": [
      "                    proc 2023/09/27 08:57:55     INFO: Returning 1 results.\n"
     ]
    },
    {
     "name": "stderr",
     "output_type": "stream",
     "text": [
      "                    proc 2023/09/27 08:57:55     INFO: Loading init_filter={'sim_name': 'surr_all_equal', 'surrogate_k': 4, 'method': 0, 'random_seed': 16} compute_filter={'window_shape': 'hann', 'window_length': <Quantity(1, 'second')>, 'fit_k': True} from proc/sup.meth.016/1d63402a54dc91e8.p, last modified 2023-09-27 08:18:03.\n"
     ]
    },
    {
     "name": "stdout",
     "output_type": "stream",
     "text": [
      "Loading data for method 0 and seed 16\n"
     ]
    },
    {
     "name": "stderr",
     "output_type": "stream",
     "text": [
      "                    proc 2023/09/27 08:57:55     INFO: Returning 1 results.\n"
     ]
    },
    {
     "name": "stderr",
     "output_type": "stream",
     "text": [
      "                    proc 2023/09/27 08:57:55     INFO: Loading init_filter={'sim_name': 'surr_all_equal', 'surrogate_k': 4, 'method': 0, 'random_seed': 17} compute_filter={'window_shape': 'hann', 'window_length': <Quantity(1, 'second')>, 'fit_k': True} from proc/sup.meth.017/0c23a4d9f1c44ad8.p, last modified 2023-09-27 08:18:15.\n"
     ]
    },
    {
     "name": "stdout",
     "output_type": "stream",
     "text": [
      "Loading data for method 0 and seed 17\n"
     ]
    },
    {
     "name": "stderr",
     "output_type": "stream",
     "text": [
      "                    proc 2023/09/27 08:57:55     INFO: Returning 1 results.\n"
     ]
    },
    {
     "name": "stderr",
     "output_type": "stream",
     "text": [
      "                    proc 2023/09/27 08:57:55     INFO: Loading init_filter={'sim_name': 'surr_all_equal', 'surrogate_k': 4, 'method': 0, 'random_seed': 18} compute_filter={'window_shape': 'hann', 'window_length': <Quantity(1, 'second')>, 'fit_k': True} from proc/sup.meth.018/7ca30198a701f478.p, last modified 2023-09-27 08:17:53.\n"
     ]
    },
    {
     "name": "stdout",
     "output_type": "stream",
     "text": [
      "Loading data for method 0 and seed 18\n"
     ]
    },
    {
     "name": "stderr",
     "output_type": "stream",
     "text": [
      "                    proc 2023/09/27 08:57:55     INFO: Returning 1 results.\n"
     ]
    },
    {
     "name": "stderr",
     "output_type": "stream",
     "text": [
      "                    proc 2023/09/27 08:57:55     INFO: Loading init_filter={'sim_name': 'surr_all_equal', 'surrogate_k': 4, 'method': 0, 'random_seed': 19} compute_filter={'window_shape': 'hann', 'window_length': <Quantity(1, 'second')>, 'fit_k': True} from proc/sup.meth.019/f300221dac202c04.p, last modified 2023-09-27 08:18:18.\n"
     ]
    },
    {
     "name": "stdout",
     "output_type": "stream",
     "text": [
      "Loading data for method 0 and seed 19\n"
     ]
    },
    {
     "name": "stderr",
     "output_type": "stream",
     "text": [
      "                    proc 2023/09/27 08:57:55     INFO: Returning 1 results.\n"
     ]
    },
    {
     "name": "stderr",
     "output_type": "stream",
     "text": [
      "                    proc 2023/09/27 08:57:55     INFO: Loading init_filter={'sim_name': 'surr_all_equal', 'surrogate_k': 4, 'method': 1, 'random_seed': 0} compute_filter={'window_shape': 'hann', 'window_length': <Quantity(1, 'second')>, 'fit_k': True} from proc/sup.meth.10/62cdf50a469e4ed4.p, last modified 2023-09-27 08:17:16.\n"
     ]
    },
    {
     "name": "stdout",
     "output_type": "stream",
     "text": [
      "Loading data for method 1 and seed 0\n"
     ]
    },
    {
     "name": "stderr",
     "output_type": "stream",
     "text": [
      "                    proc 2023/09/27 08:57:56     INFO: Returning 1 results.\n"
     ]
    },
    {
     "name": "stderr",
     "output_type": "stream",
     "text": [
      "                    proc 2023/09/27 08:57:56     INFO: Loading init_filter={'sim_name': 'surr_all_equal', 'surrogate_k': 4, 'method': 1, 'random_seed': 1} compute_filter={'window_shape': 'hann', 'window_length': <Quantity(1, 'second')>, 'fit_k': True} from proc/sup.meth.11/38c434431212dbf5.p, last modified 2023-09-27 08:17:09.\n"
     ]
    },
    {
     "name": "stdout",
     "output_type": "stream",
     "text": [
      "Loading data for method 1 and seed 1\n"
     ]
    },
    {
     "name": "stderr",
     "output_type": "stream",
     "text": [
      "                    proc 2023/09/27 08:57:56     INFO: Returning 1 results.\n"
     ]
    },
    {
     "name": "stderr",
     "output_type": "stream",
     "text": [
      "                    proc 2023/09/27 08:57:56     INFO: Loading init_filter={'sim_name': 'surr_all_equal', 'surrogate_k': 4, 'method': 1, 'random_seed': 2} compute_filter={'window_shape': 'hann', 'window_length': <Quantity(1, 'second')>, 'fit_k': True} from proc/sup.meth.12/0f1fdf713d7a4e7c.p, last modified 2023-09-27 08:17:16.\n"
     ]
    },
    {
     "name": "stdout",
     "output_type": "stream",
     "text": [
      "Loading data for method 1 and seed 2\n"
     ]
    },
    {
     "name": "stderr",
     "output_type": "stream",
     "text": [
      "                    proc 2023/09/27 08:57:56     INFO: Returning 1 results.\n"
     ]
    },
    {
     "name": "stderr",
     "output_type": "stream",
     "text": [
      "                    proc 2023/09/27 08:57:56     INFO: Loading init_filter={'sim_name': 'surr_all_equal', 'surrogate_k': 4, 'method': 1, 'random_seed': 3} compute_filter={'window_shape': 'hann', 'window_length': <Quantity(1, 'second')>, 'fit_k': True} from proc/sup.meth.13/31db26d3e8a7c2b9.p, last modified 2023-09-27 08:17:14.\n"
     ]
    },
    {
     "name": "stdout",
     "output_type": "stream",
     "text": [
      "Loading data for method 1 and seed 3\n"
     ]
    },
    {
     "name": "stderr",
     "output_type": "stream",
     "text": [
      "                    proc 2023/09/27 08:57:56     INFO: Returning 1 results.\n"
     ]
    },
    {
     "name": "stderr",
     "output_type": "stream",
     "text": [
      "                    proc 2023/09/27 08:57:56     INFO: Loading init_filter={'sim_name': 'surr_all_equal', 'surrogate_k': 4, 'method': 1, 'random_seed': 4} compute_filter={'window_shape': 'hann', 'window_length': <Quantity(1, 'second')>, 'fit_k': True} from proc/sup.meth.14/e84223585789b6dc.p, last modified 2023-09-27 08:17:13.\n"
     ]
    },
    {
     "name": "stdout",
     "output_type": "stream",
     "text": [
      "Loading data for method 1 and seed 4\n"
     ]
    },
    {
     "name": "stderr",
     "output_type": "stream",
     "text": [
      "                    proc 2023/09/27 08:57:56     INFO: Returning 1 results.\n"
     ]
    },
    {
     "name": "stderr",
     "output_type": "stream",
     "text": [
      "                    proc 2023/09/27 08:57:56     INFO: Loading init_filter={'sim_name': 'surr_all_equal', 'surrogate_k': 4, 'method': 1, 'random_seed': 5} compute_filter={'window_shape': 'hann', 'window_length': <Quantity(1, 'second')>, 'fit_k': True} from proc/sup.meth.15/859e04f7f4aa8136.p, last modified 2023-09-27 08:17:08.\n"
     ]
    },
    {
     "name": "stdout",
     "output_type": "stream",
     "text": [
      "Loading data for method 1 and seed 5\n"
     ]
    },
    {
     "name": "stderr",
     "output_type": "stream",
     "text": [
      "                    proc 2023/09/27 08:57:57     INFO: Returning 1 results.\n"
     ]
    },
    {
     "name": "stderr",
     "output_type": "stream",
     "text": [
      "                    proc 2023/09/27 08:57:57     INFO: Loading init_filter={'sim_name': 'surr_all_equal', 'surrogate_k': 4, 'method': 1, 'random_seed': 6} compute_filter={'window_shape': 'hann', 'window_length': <Quantity(1, 'second')>, 'fit_k': True} from proc/sup.meth.16/464b5b5dd0eb9ecc.p, last modified 2023-09-27 08:17:13.\n"
     ]
    },
    {
     "name": "stdout",
     "output_type": "stream",
     "text": [
      "Loading data for method 1 and seed 6\n"
     ]
    },
    {
     "name": "stderr",
     "output_type": "stream",
     "text": [
      "                    proc 2023/09/27 08:57:57     INFO: Returning 1 results.\n"
     ]
    },
    {
     "name": "stderr",
     "output_type": "stream",
     "text": [
      "                    proc 2023/09/27 08:57:57     INFO: Loading init_filter={'sim_name': 'surr_all_equal', 'surrogate_k': 4, 'method': 1, 'random_seed': 7} compute_filter={'window_shape': 'hann', 'window_length': <Quantity(1, 'second')>, 'fit_k': True} from proc/sup.meth.17/3266d9e11a31130b.p, last modified 2023-09-27 08:17:12.\n"
     ]
    },
    {
     "name": "stdout",
     "output_type": "stream",
     "text": [
      "Loading data for method 1 and seed 7\n"
     ]
    },
    {
     "name": "stderr",
     "output_type": "stream",
     "text": [
      "                    proc 2023/09/27 08:57:57     INFO: Returning 1 results.\n"
     ]
    },
    {
     "name": "stderr",
     "output_type": "stream",
     "text": [
      "                    proc 2023/09/27 08:57:57     INFO: Loading init_filter={'sim_name': 'surr_all_equal', 'surrogate_k': 4, 'method': 1, 'random_seed': 8} compute_filter={'window_shape': 'hann', 'window_length': <Quantity(1, 'second')>, 'fit_k': True} from proc/sup.meth.18/10ce4848447b50fd.p, last modified 2023-09-27 08:17:20.\n"
     ]
    },
    {
     "name": "stdout",
     "output_type": "stream",
     "text": [
      "Loading data for method 1 and seed 8\n"
     ]
    },
    {
     "name": "stderr",
     "output_type": "stream",
     "text": [
      "                    proc 2023/09/27 08:57:57     INFO: Returning 1 results.\n"
     ]
    },
    {
     "name": "stderr",
     "output_type": "stream",
     "text": [
      "                    proc 2023/09/27 08:57:57     INFO: Loading init_filter={'sim_name': 'surr_all_equal', 'surrogate_k': 4, 'method': 1, 'random_seed': 9} compute_filter={'window_shape': 'hann', 'window_length': <Quantity(1, 'second')>, 'fit_k': True} from proc/sup.meth.19/0a4ad1b1fa044293.p, last modified 2023-09-27 08:17:16.\n"
     ]
    },
    {
     "name": "stdout",
     "output_type": "stream",
     "text": [
      "Loading data for method 1 and seed 9\n"
     ]
    },
    {
     "name": "stderr",
     "output_type": "stream",
     "text": [
      "                    proc 2023/09/27 08:57:58     INFO: Returning 1 results.\n"
     ]
    },
    {
     "name": "stderr",
     "output_type": "stream",
     "text": [
      "                    proc 2023/09/27 08:57:58     INFO: Loading init_filter={'sim_name': 'surr_all_equal', 'surrogate_k': 4, 'method': 1, 'random_seed': 10} compute_filter={'window_shape': 'hann', 'window_length': <Quantity(1, 'second')>, 'fit_k': True} from proc/sup.meth.110/02fc3dfe6b53fd8a.p, last modified 2023-09-27 08:17:14.\n"
     ]
    },
    {
     "name": "stdout",
     "output_type": "stream",
     "text": [
      "Loading data for method 1 and seed 10\n"
     ]
    },
    {
     "name": "stderr",
     "output_type": "stream",
     "text": [
      "                    proc 2023/09/27 08:57:58     INFO: Returning 1 results.\n"
     ]
    },
    {
     "name": "stderr",
     "output_type": "stream",
     "text": [
      "                    proc 2023/09/27 08:57:58     INFO: Loading init_filter={'sim_name': 'surr_all_equal', 'surrogate_k': 4, 'method': 1, 'random_seed': 11} compute_filter={'window_shape': 'hann', 'window_length': <Quantity(1, 'second')>, 'fit_k': True} from proc/sup.meth.111/7614f43674bafa8a.p, last modified 2023-09-27 08:17:05.\n"
     ]
    },
    {
     "name": "stdout",
     "output_type": "stream",
     "text": [
      "Loading data for method 1 and seed 11\n"
     ]
    },
    {
     "name": "stderr",
     "output_type": "stream",
     "text": [
      "                    proc 2023/09/27 08:57:58     INFO: Returning 1 results.\n"
     ]
    },
    {
     "name": "stderr",
     "output_type": "stream",
     "text": [
      "                    proc 2023/09/27 08:57:58     INFO: Loading init_filter={'sim_name': 'surr_all_equal', 'surrogate_k': 4, 'method': 1, 'random_seed': 12} compute_filter={'window_shape': 'hann', 'window_length': <Quantity(1, 'second')>, 'fit_k': True} from proc/sup.meth.112/372ca3ae4a85a4ba.p, last modified 2023-09-27 08:17:17.\n"
     ]
    },
    {
     "name": "stdout",
     "output_type": "stream",
     "text": [
      "Loading data for method 1 and seed 12\n"
     ]
    },
    {
     "name": "stderr",
     "output_type": "stream",
     "text": [
      "                    proc 2023/09/27 08:57:58     INFO: Returning 1 results.\n"
     ]
    },
    {
     "name": "stdout",
     "output_type": "stream",
     "text": [
      "Loading data for method 1 and seed 13\n"
     ]
    },
    {
     "name": "stderr",
     "output_type": "stream",
     "text": [
      "                    proc 2023/09/27 08:57:58     INFO: Loading init_filter={'sim_name': 'surr_all_equal', 'surrogate_k': 4, 'method': 1, 'random_seed': 13} compute_filter={'window_shape': 'hann', 'window_length': <Quantity(1, 'second')>, 'fit_k': True} from proc/sup.meth.113/e9b4bc0fbed44113.p, last modified 2023-09-27 08:17:14.\n"
     ]
    },
    {
     "name": "stderr",
     "output_type": "stream",
     "text": [
      "                    proc 2023/09/27 08:57:59     INFO: Returning 1 results.\n"
     ]
    },
    {
     "name": "stderr",
     "output_type": "stream",
     "text": [
      "                    proc 2023/09/27 08:57:59     INFO: Loading init_filter={'sim_name': 'surr_all_equal', 'surrogate_k': 4, 'method': 1, 'random_seed': 14} compute_filter={'window_shape': 'hann', 'window_length': <Quantity(1, 'second')>, 'fit_k': True} from proc/sup.meth.114/173ca3fc5720e7f1.p, last modified 2023-09-27 08:17:25.\n"
     ]
    },
    {
     "name": "stdout",
     "output_type": "stream",
     "text": [
      "Loading data for method 1 and seed 14\n"
     ]
    },
    {
     "name": "stderr",
     "output_type": "stream",
     "text": [
      "                    proc 2023/09/27 08:57:59     INFO: Returning 1 results.\n"
     ]
    },
    {
     "name": "stderr",
     "output_type": "stream",
     "text": [
      "                    proc 2023/09/27 08:57:59     INFO: Loading init_filter={'sim_name': 'surr_all_equal', 'surrogate_k': 4, 'method': 1, 'random_seed': 15} compute_filter={'window_shape': 'hann', 'window_length': <Quantity(1, 'second')>, 'fit_k': True} from proc/sup.meth.115/99855db2622dc5ba.p, last modified 2023-09-27 08:17:08.\n"
     ]
    },
    {
     "name": "stdout",
     "output_type": "stream",
     "text": [
      "Loading data for method 1 and seed 15\n"
     ]
    },
    {
     "name": "stderr",
     "output_type": "stream",
     "text": [
      "                    proc 2023/09/27 08:57:59     INFO: Returning 1 results.\n"
     ]
    },
    {
     "name": "stderr",
     "output_type": "stream",
     "text": [
      "                    proc 2023/09/27 08:57:59     INFO: Loading init_filter={'sim_name': 'surr_all_equal', 'surrogate_k': 4, 'method': 1, 'random_seed': 16} compute_filter={'window_shape': 'hann', 'window_length': <Quantity(1, 'second')>, 'fit_k': True} from proc/sup.meth.116/7a8f4ad717f894e9.p, last modified 2023-09-27 08:17:11.\n"
     ]
    },
    {
     "name": "stdout",
     "output_type": "stream",
     "text": [
      "Loading data for method 1 and seed 16\n"
     ]
    },
    {
     "name": "stderr",
     "output_type": "stream",
     "text": [
      "                    proc 2023/09/27 08:57:59     INFO: Returning 1 results.\n"
     ]
    },
    {
     "name": "stderr",
     "output_type": "stream",
     "text": [
      "                    proc 2023/09/27 08:57:59     INFO: Loading init_filter={'sim_name': 'surr_all_equal', 'surrogate_k': 4, 'method': 1, 'random_seed': 17} compute_filter={'window_shape': 'hann', 'window_length': <Quantity(1, 'second')>, 'fit_k': True} from proc/sup.meth.117/253fe885e599386c.p, last modified 2023-09-27 08:17:08.\n"
     ]
    },
    {
     "name": "stdout",
     "output_type": "stream",
     "text": [
      "Loading data for method 1 and seed 17\n"
     ]
    },
    {
     "name": "stderr",
     "output_type": "stream",
     "text": [
      "                    proc 2023/09/27 08:57:59     INFO: Returning 1 results.\n"
     ]
    },
    {
     "name": "stderr",
     "output_type": "stream",
     "text": [
      "                    proc 2023/09/27 08:57:59     INFO: Loading init_filter={'sim_name': 'surr_all_equal', 'surrogate_k': 4, 'method': 1, 'random_seed': 18} compute_filter={'window_shape': 'hann', 'window_length': <Quantity(1, 'second')>, 'fit_k': True} from proc/sup.meth.118/ed89852599a9f575.p, last modified 2023-09-27 08:17:16.\n"
     ]
    },
    {
     "name": "stdout",
     "output_type": "stream",
     "text": [
      "Loading data for method 1 and seed 18\n"
     ]
    },
    {
     "name": "stderr",
     "output_type": "stream",
     "text": [
      "                    proc 2023/09/27 08:58:00     INFO: Returning 1 results.\n"
     ]
    },
    {
     "name": "stderr",
     "output_type": "stream",
     "text": [
      "                    proc 2023/09/27 08:58:00     INFO: Loading init_filter={'sim_name': 'surr_all_equal', 'surrogate_k': 4, 'method': 1, 'random_seed': 19} compute_filter={'window_shape': 'hann', 'window_length': <Quantity(1, 'second')>, 'fit_k': True} from proc/sup.meth.119/3354e804094efc04.p, last modified 2023-09-27 08:17:11.\n"
     ]
    },
    {
     "name": "stdout",
     "output_type": "stream",
     "text": [
      "Loading data for method 1 and seed 19\n"
     ]
    },
    {
     "name": "stderr",
     "output_type": "stream",
     "text": [
      "                    proc 2023/09/27 08:58:00     INFO: Returning 1 results.\n"
     ]
    },
    {
     "name": "stderr",
     "output_type": "stream",
     "text": [
      "                    proc 2023/09/27 08:58:00     INFO: Loading init_filter={'sim_name': 'surr_all_equal', 'surrogate_k': 0, 'method': 0, 'random_seed': 0} compute_filter={'window_shape': 'hann', 'window_length': <Quantity(1, 'second')>, 'fit_k': True} from proc/suw.meth.00/bbb4368db91cc207.p, last modified 2023-09-27 08:51:33.\n"
     ]
    },
    {
     "name": "stdout",
     "output_type": "stream",
     "text": [
      "Loading data for method 0 and seed 0\n"
     ]
    },
    {
     "name": "stderr",
     "output_type": "stream",
     "text": [
      "                    proc 2023/09/27 08:58:00     INFO: Returning 1 results.\n"
     ]
    },
    {
     "name": "stderr",
     "output_type": "stream",
     "text": [
      "                    proc 2023/09/27 08:58:00     INFO: Loading init_filter={'sim_name': 'surr_all_equal', 'surrogate_k': 0, 'method': 0, 'random_seed': 1} compute_filter={'window_shape': 'hann', 'window_length': <Quantity(1, 'second')>, 'fit_k': True} from proc/suw.meth.01/8d882d4c92616f9c.p, last modified 2023-09-27 08:51:38.\n"
     ]
    },
    {
     "name": "stdout",
     "output_type": "stream",
     "text": [
      "Loading data for method 0 and seed 1\n"
     ]
    },
    {
     "name": "stderr",
     "output_type": "stream",
     "text": [
      "                    proc 2023/09/27 08:58:01     INFO: Returning 1 results.\n"
     ]
    },
    {
     "name": "stderr",
     "output_type": "stream",
     "text": [
      "                    proc 2023/09/27 08:58:01     INFO: Loading init_filter={'sim_name': 'surr_all_equal', 'surrogate_k': 0, 'method': 0, 'random_seed': 2} compute_filter={'window_shape': 'hann', 'window_length': <Quantity(1, 'second')>, 'fit_k': True} from proc/suw.meth.02/a225eb3960453568.p, last modified 2023-09-27 08:51:53.\n"
     ]
    },
    {
     "name": "stdout",
     "output_type": "stream",
     "text": [
      "Loading data for method 0 and seed 2\n"
     ]
    },
    {
     "name": "stderr",
     "output_type": "stream",
     "text": [
      "                    proc 2023/09/27 08:58:01     INFO: Returning 1 results.\n"
     ]
    },
    {
     "name": "stderr",
     "output_type": "stream",
     "text": [
      "                    proc 2023/09/27 08:58:01     INFO: Loading init_filter={'sim_name': 'surr_all_equal', 'surrogate_k': 0, 'method': 0, 'random_seed': 3} compute_filter={'window_shape': 'hann', 'window_length': <Quantity(1, 'second')>, 'fit_k': True} from proc/suw.meth.03/02c3810fcb4e9261.p, last modified 2023-09-27 08:51:49.\n"
     ]
    },
    {
     "name": "stdout",
     "output_type": "stream",
     "text": [
      "Loading data for method 0 and seed 3\n"
     ]
    },
    {
     "name": "stderr",
     "output_type": "stream",
     "text": [
      "                    proc 2023/09/27 08:58:02     INFO: Returning 1 results.\n"
     ]
    },
    {
     "name": "stderr",
     "output_type": "stream",
     "text": [
      "                    proc 2023/09/27 08:58:02     INFO: Loading init_filter={'sim_name': 'surr_all_equal', 'surrogate_k': 0, 'method': 0, 'random_seed': 4} compute_filter={'window_shape': 'hann', 'window_length': <Quantity(1, 'second')>, 'fit_k': True} from proc/suw.meth.04/443cf7686b82bc66.p, last modified 2023-09-27 08:51:42.\n"
     ]
    },
    {
     "name": "stdout",
     "output_type": "stream",
     "text": [
      "Loading data for method 0 and seed 4\n"
     ]
    },
    {
     "name": "stderr",
     "output_type": "stream",
     "text": [
      "                    proc 2023/09/27 08:58:02     INFO: Returning 1 results.\n"
     ]
    },
    {
     "name": "stderr",
     "output_type": "stream",
     "text": [
      "                    proc 2023/09/27 08:58:02     INFO: Loading init_filter={'sim_name': 'surr_all_equal', 'surrogate_k': 0, 'method': 0, 'random_seed': 5} compute_filter={'window_shape': 'hann', 'window_length': <Quantity(1, 'second')>, 'fit_k': True} from proc/suw.meth.05/77d863884db76329.p, last modified 2023-09-27 08:51:37.\n"
     ]
    },
    {
     "name": "stdout",
     "output_type": "stream",
     "text": [
      "Loading data for method 0 and seed 5\n"
     ]
    },
    {
     "name": "stderr",
     "output_type": "stream",
     "text": [
      "                    proc 2023/09/27 08:58:02     INFO: Returning 1 results.\n"
     ]
    },
    {
     "name": "stderr",
     "output_type": "stream",
     "text": [
      "                    proc 2023/09/27 08:58:02     INFO: Loading init_filter={'sim_name': 'surr_all_equal', 'surrogate_k': 0, 'method': 0, 'random_seed': 6} compute_filter={'window_shape': 'hann', 'window_length': <Quantity(1, 'second')>, 'fit_k': True} from proc/suw.meth.06/7a7b38a1fa15caab.p, last modified 2023-09-27 08:51:51.\n"
     ]
    },
    {
     "name": "stdout",
     "output_type": "stream",
     "text": [
      "Loading data for method 0 and seed 6\n"
     ]
    },
    {
     "name": "stderr",
     "output_type": "stream",
     "text": [
      "                    proc 2023/09/27 08:58:03     INFO: Returning 1 results.\n"
     ]
    },
    {
     "name": "stderr",
     "output_type": "stream",
     "text": [
      "                    proc 2023/09/27 08:58:03     INFO: Loading init_filter={'sim_name': 'surr_all_equal', 'surrogate_k': 0, 'method': 0, 'random_seed': 7} compute_filter={'window_shape': 'hann', 'window_length': <Quantity(1, 'second')>, 'fit_k': True} from proc/suw.meth.07/94bdaa42c7bc1f10.p, last modified 2023-09-27 08:51:50.\n"
     ]
    },
    {
     "name": "stdout",
     "output_type": "stream",
     "text": [
      "Loading data for method 0 and seed 7\n"
     ]
    },
    {
     "name": "stderr",
     "output_type": "stream",
     "text": [
      "                    proc 2023/09/27 08:58:03     INFO: Returning 1 results.\n"
     ]
    },
    {
     "name": "stderr",
     "output_type": "stream",
     "text": [
      "                    proc 2023/09/27 08:58:03     INFO: Loading init_filter={'sim_name': 'surr_all_equal', 'surrogate_k': 0, 'method': 0, 'random_seed': 8} compute_filter={'window_shape': 'hann', 'window_length': <Quantity(1, 'second')>, 'fit_k': True} from proc/suw.meth.08/69eb707449622096.p, last modified 2023-09-27 08:51:35.\n"
     ]
    },
    {
     "name": "stdout",
     "output_type": "stream",
     "text": [
      "Loading data for method 0 and seed 8\n"
     ]
    },
    {
     "name": "stderr",
     "output_type": "stream",
     "text": [
      "                    proc 2023/09/27 08:58:04     INFO: Returning 1 results.\n"
     ]
    },
    {
     "name": "stderr",
     "output_type": "stream",
     "text": [
      "                    proc 2023/09/27 08:58:04     INFO: Loading init_filter={'sim_name': 'surr_all_equal', 'surrogate_k': 0, 'method': 0, 'random_seed': 9} compute_filter={'window_shape': 'hann', 'window_length': <Quantity(1, 'second')>, 'fit_k': True} from proc/suw.meth.09/73860768c936d72e.p, last modified 2023-09-27 08:51:33.\n"
     ]
    },
    {
     "name": "stdout",
     "output_type": "stream",
     "text": [
      "Loading data for method 0 and seed 9\n"
     ]
    },
    {
     "name": "stderr",
     "output_type": "stream",
     "text": [
      "                    proc 2023/09/27 08:58:04     INFO: Returning 1 results.\n"
     ]
    },
    {
     "name": "stderr",
     "output_type": "stream",
     "text": [
      "                    proc 2023/09/27 08:58:04     INFO: Loading init_filter={'sim_name': 'surr_all_equal', 'surrogate_k': 0, 'method': 0, 'random_seed': 10} compute_filter={'window_shape': 'hann', 'window_length': <Quantity(1, 'second')>, 'fit_k': True} from proc/suw.meth.010/5fcb3c8b95f2d74f.p, last modified 2023-09-27 08:51:41.\n"
     ]
    },
    {
     "name": "stdout",
     "output_type": "stream",
     "text": [
      "Loading data for method 0 and seed 10\n"
     ]
    },
    {
     "name": "stderr",
     "output_type": "stream",
     "text": [
      "                    proc 2023/09/27 08:58:05     INFO: Returning 1 results.\n"
     ]
    },
    {
     "name": "stderr",
     "output_type": "stream",
     "text": [
      "                    proc 2023/09/27 08:58:05     INFO: Loading init_filter={'sim_name': 'surr_all_equal', 'surrogate_k': 0, 'method': 0, 'random_seed': 11} compute_filter={'window_shape': 'hann', 'window_length': <Quantity(1, 'second')>, 'fit_k': True} from proc/suw.meth.011/95ebf595735adbcd.p, last modified 2023-09-27 08:51:41.\n"
     ]
    },
    {
     "name": "stdout",
     "output_type": "stream",
     "text": [
      "Loading data for method 0 and seed 11\n"
     ]
    },
    {
     "name": "stderr",
     "output_type": "stream",
     "text": [
      "                    proc 2023/09/27 08:58:05     INFO: Returning 1 results.\n"
     ]
    },
    {
     "name": "stderr",
     "output_type": "stream",
     "text": [
      "                    proc 2023/09/27 08:58:05     INFO: Loading init_filter={'sim_name': 'surr_all_equal', 'surrogate_k': 0, 'method': 0, 'random_seed': 12} compute_filter={'window_shape': 'hann', 'window_length': <Quantity(1, 'second')>, 'fit_k': True} from proc/suw.meth.012/9b2541ebb56681a5.p, last modified 2023-09-27 08:51:39.\n"
     ]
    },
    {
     "name": "stdout",
     "output_type": "stream",
     "text": [
      "Loading data for method 0 and seed 12\n"
     ]
    },
    {
     "name": "stderr",
     "output_type": "stream",
     "text": [
      "                    proc 2023/09/27 08:58:05     INFO: Returning 1 results.\n"
     ]
    },
    {
     "name": "stderr",
     "output_type": "stream",
     "text": [
      "                    proc 2023/09/27 08:58:05     INFO: Loading init_filter={'sim_name': 'surr_all_equal', 'surrogate_k': 0, 'method': 0, 'random_seed': 13} compute_filter={'window_shape': 'hann', 'window_length': <Quantity(1, 'second')>, 'fit_k': True} from proc/suw.meth.013/5959fbe5865cfa77.p, last modified 2023-09-27 08:51:30.\n"
     ]
    },
    {
     "name": "stdout",
     "output_type": "stream",
     "text": [
      "Loading data for method 0 and seed 13\n"
     ]
    },
    {
     "name": "stderr",
     "output_type": "stream",
     "text": [
      "                    proc 2023/09/27 08:58:06     INFO: Returning 1 results.\n"
     ]
    },
    {
     "name": "stderr",
     "output_type": "stream",
     "text": [
      "                    proc 2023/09/27 08:58:06     INFO: Loading init_filter={'sim_name': 'surr_all_equal', 'surrogate_k': 0, 'method': 0, 'random_seed': 14} compute_filter={'window_shape': 'hann', 'window_length': <Quantity(1, 'second')>, 'fit_k': True} from proc/suw.meth.014/12d803c48f9de6f1.p, last modified 2023-09-27 08:51:43.\n"
     ]
    },
    {
     "name": "stdout",
     "output_type": "stream",
     "text": [
      "Loading data for method 0 and seed 14\n"
     ]
    },
    {
     "name": "stderr",
     "output_type": "stream",
     "text": [
      "                    proc 2023/09/27 08:58:06     INFO: Returning 1 results.\n"
     ]
    },
    {
     "name": "stderr",
     "output_type": "stream",
     "text": [
      "                    proc 2023/09/27 08:58:06     INFO: Loading init_filter={'sim_name': 'surr_all_equal', 'surrogate_k': 0, 'method': 0, 'random_seed': 15} compute_filter={'window_shape': 'hann', 'window_length': <Quantity(1, 'second')>, 'fit_k': True} from proc/suw.meth.015/032b8232c131da6f.p, last modified 2023-09-27 08:51:36.\n"
     ]
    },
    {
     "name": "stdout",
     "output_type": "stream",
     "text": [
      "Loading data for method 0 and seed 15\n"
     ]
    },
    {
     "name": "stderr",
     "output_type": "stream",
     "text": [
      "                    proc 2023/09/27 08:58:07     INFO: Returning 1 results.\n"
     ]
    },
    {
     "name": "stderr",
     "output_type": "stream",
     "text": [
      "                    proc 2023/09/27 08:58:07     INFO: Loading init_filter={'sim_name': 'surr_all_equal', 'surrogate_k': 0, 'method': 0, 'random_seed': 16} compute_filter={'window_shape': 'hann', 'window_length': <Quantity(1, 'second')>, 'fit_k': True} from proc/suw.meth.016/a0f7f20cc8eb428d.p, last modified 2023-09-27 08:51:35.\n"
     ]
    },
    {
     "name": "stdout",
     "output_type": "stream",
     "text": [
      "Loading data for method 0 and seed 16\n"
     ]
    },
    {
     "name": "stderr",
     "output_type": "stream",
     "text": [
      "                    proc 2023/09/27 08:58:07     INFO: Returning 1 results.\n"
     ]
    },
    {
     "name": "stderr",
     "output_type": "stream",
     "text": [
      "                    proc 2023/09/27 08:58:07     INFO: Loading init_filter={'sim_name': 'surr_all_equal', 'surrogate_k': 0, 'method': 0, 'random_seed': 17} compute_filter={'window_shape': 'hann', 'window_length': <Quantity(1, 'second')>, 'fit_k': True} from proc/suw.meth.017/df0386a58b8ad210.p, last modified 2023-09-27 08:52:01.\n"
     ]
    },
    {
     "name": "stdout",
     "output_type": "stream",
     "text": [
      "Loading data for method 0 and seed 17\n"
     ]
    },
    {
     "name": "stderr",
     "output_type": "stream",
     "text": [
      "                    proc 2023/09/27 08:58:07     INFO: Returning 1 results.\n"
     ]
    },
    {
     "name": "stderr",
     "output_type": "stream",
     "text": [
      "                    proc 2023/09/27 08:58:07     INFO: Loading init_filter={'sim_name': 'surr_all_equal', 'surrogate_k': 0, 'method': 0, 'random_seed': 18} compute_filter={'window_shape': 'hann', 'window_length': <Quantity(1, 'second')>, 'fit_k': True} from proc/suw.meth.018/c361a339ac71e83b.p, last modified 2023-09-27 08:52:02.\n"
     ]
    },
    {
     "name": "stdout",
     "output_type": "stream",
     "text": [
      "Loading data for method 0 and seed 18\n"
     ]
    },
    {
     "name": "stderr",
     "output_type": "stream",
     "text": [
      "                    proc 2023/09/27 08:58:08     INFO: Returning 1 results.\n"
     ]
    },
    {
     "name": "stderr",
     "output_type": "stream",
     "text": [
      "                    proc 2023/09/27 08:58:08     INFO: Loading init_filter={'sim_name': 'surr_all_equal', 'surrogate_k': 0, 'method': 0, 'random_seed': 19} compute_filter={'window_shape': 'hann', 'window_length': <Quantity(1, 'second')>, 'fit_k': True} from proc/suw.meth.019/76b132294a23c018.p, last modified 2023-09-27 08:51:35.\n"
     ]
    },
    {
     "name": "stdout",
     "output_type": "stream",
     "text": [
      "Loading data for method 0 and seed 19\n"
     ]
    },
    {
     "name": "stderr",
     "output_type": "stream",
     "text": [
      "                    proc 2023/09/27 08:58:08     INFO: Returning 1 results.\n"
     ]
    },
    {
     "name": "stderr",
     "output_type": "stream",
     "text": [
      "                    proc 2023/09/27 08:58:08     INFO: Loading init_filter={'sim_name': 'surr_all_equal', 'surrogate_k': 0, 'method': 1, 'random_seed': 0} compute_filter={'window_shape': 'hann', 'window_length': <Quantity(1, 'second')>, 'fit_k': True} from proc/suw.meth.10/ae3c677da74bc89c.p, last modified 2023-09-27 08:50:57.\n"
     ]
    },
    {
     "name": "stdout",
     "output_type": "stream",
     "text": [
      "Loading data for method 1 and seed 0\n"
     ]
    },
    {
     "name": "stderr",
     "output_type": "stream",
     "text": [
      "                    proc 2023/09/27 08:58:09     INFO: Returning 1 results.\n"
     ]
    },
    {
     "name": "stderr",
     "output_type": "stream",
     "text": [
      "                    proc 2023/09/27 08:58:09     INFO: Loading init_filter={'sim_name': 'surr_all_equal', 'surrogate_k': 0, 'method': 1, 'random_seed': 1} compute_filter={'window_shape': 'hann', 'window_length': <Quantity(1, 'second')>, 'fit_k': True} from proc/suw.meth.11/a0f15603e6920821.p, last modified 2023-09-27 08:50:52.\n"
     ]
    },
    {
     "name": "stdout",
     "output_type": "stream",
     "text": [
      "Loading data for method 1 and seed 1\n"
     ]
    },
    {
     "name": "stderr",
     "output_type": "stream",
     "text": [
      "                    proc 2023/09/27 08:58:09     INFO: Returning 1 results.\n"
     ]
    },
    {
     "name": "stderr",
     "output_type": "stream",
     "text": [
      "                    proc 2023/09/27 08:58:09     INFO: Loading init_filter={'sim_name': 'surr_all_equal', 'surrogate_k': 0, 'method': 1, 'random_seed': 2} compute_filter={'window_shape': 'hann', 'window_length': <Quantity(1, 'second')>, 'fit_k': True} from proc/suw.meth.12/455e04d8a91b1b9d.p, last modified 2023-09-27 08:50:47.\n"
     ]
    },
    {
     "name": "stdout",
     "output_type": "stream",
     "text": [
      "Loading data for method 1 and seed 2\n"
     ]
    },
    {
     "name": "stderr",
     "output_type": "stream",
     "text": [
      "                    proc 2023/09/27 08:58:10     INFO: Returning 1 results.\n"
     ]
    },
    {
     "name": "stderr",
     "output_type": "stream",
     "text": [
      "                    proc 2023/09/27 08:58:10     INFO: Loading init_filter={'sim_name': 'surr_all_equal', 'surrogate_k': 0, 'method': 1, 'random_seed': 3} compute_filter={'window_shape': 'hann', 'window_length': <Quantity(1, 'second')>, 'fit_k': True} from proc/suw.meth.13/fca3236f706c6784.p, last modified 2023-09-27 08:50:52.\n"
     ]
    },
    {
     "name": "stdout",
     "output_type": "stream",
     "text": [
      "Loading data for method 1 and seed 3\n"
     ]
    },
    {
     "name": "stderr",
     "output_type": "stream",
     "text": [
      "                    proc 2023/09/27 08:58:10     INFO: Returning 1 results.\n"
     ]
    },
    {
     "name": "stderr",
     "output_type": "stream",
     "text": [
      "                    proc 2023/09/27 08:58:10     INFO: Loading init_filter={'sim_name': 'surr_all_equal', 'surrogate_k': 0, 'method': 1, 'random_seed': 4} compute_filter={'window_shape': 'hann', 'window_length': <Quantity(1, 'second')>, 'fit_k': True} from proc/suw.meth.14/08afd70a27bce5e0.p, last modified 2023-09-27 08:50:44.\n"
     ]
    },
    {
     "name": "stdout",
     "output_type": "stream",
     "text": [
      "Loading data for method 1 and seed 4\n"
     ]
    },
    {
     "name": "stderr",
     "output_type": "stream",
     "text": [
      "                    proc 2023/09/27 08:58:10     INFO: Returning 1 results.\n"
     ]
    },
    {
     "name": "stderr",
     "output_type": "stream",
     "text": [
      "                    proc 2023/09/27 08:58:10     INFO: Loading init_filter={'sim_name': 'surr_all_equal', 'surrogate_k': 0, 'method': 1, 'random_seed': 5} compute_filter={'window_shape': 'hann', 'window_length': <Quantity(1, 'second')>, 'fit_k': True} from proc/suw.meth.15/4e9f995f4b7630b9.p, last modified 2023-09-27 08:50:46.\n"
     ]
    },
    {
     "name": "stdout",
     "output_type": "stream",
     "text": [
      "Loading data for method 1 and seed 5\n"
     ]
    },
    {
     "name": "stderr",
     "output_type": "stream",
     "text": [
      "                    proc 2023/09/27 08:58:11     INFO: Returning 1 results.\n"
     ]
    },
    {
     "name": "stderr",
     "output_type": "stream",
     "text": [
      "                    proc 2023/09/27 08:58:11     INFO: Loading init_filter={'sim_name': 'surr_all_equal', 'surrogate_k': 0, 'method': 1, 'random_seed': 6} compute_filter={'window_shape': 'hann', 'window_length': <Quantity(1, 'second')>, 'fit_k': True} from proc/suw.meth.16/a669f2a258f33e9d.p, last modified 2023-09-27 08:50:48.\n"
     ]
    },
    {
     "name": "stdout",
     "output_type": "stream",
     "text": [
      "Loading data for method 1 and seed 6\n"
     ]
    },
    {
     "name": "stderr",
     "output_type": "stream",
     "text": [
      "                    proc 2023/09/27 08:58:11     INFO: Returning 1 results.\n"
     ]
    },
    {
     "name": "stderr",
     "output_type": "stream",
     "text": [
      "                    proc 2023/09/27 08:58:11     INFO: Loading init_filter={'sim_name': 'surr_all_equal', 'surrogate_k': 0, 'method': 1, 'random_seed': 7} compute_filter={'window_shape': 'hann', 'window_length': <Quantity(1, 'second')>, 'fit_k': True} from proc/suw.meth.17/c48f8aca7a87f5f6.p, last modified 2023-09-27 08:50:47.\n"
     ]
    },
    {
     "name": "stdout",
     "output_type": "stream",
     "text": [
      "Loading data for method 1 and seed 7\n"
     ]
    },
    {
     "name": "stderr",
     "output_type": "stream",
     "text": [
      "                    proc 2023/09/27 08:58:12     INFO: Returning 1 results.\n"
     ]
    },
    {
     "name": "stderr",
     "output_type": "stream",
     "text": [
      "                    proc 2023/09/27 08:58:12     INFO: Loading init_filter={'sim_name': 'surr_all_equal', 'surrogate_k': 0, 'method': 1, 'random_seed': 8} compute_filter={'window_shape': 'hann', 'window_length': <Quantity(1, 'second')>, 'fit_k': True} from proc/suw.meth.18/96767a623c7c33b5.p, last modified 2023-09-27 08:50:54.\n"
     ]
    },
    {
     "name": "stdout",
     "output_type": "stream",
     "text": [
      "Loading data for method 1 and seed 8\n"
     ]
    },
    {
     "name": "stderr",
     "output_type": "stream",
     "text": [
      "                    proc 2023/09/27 08:58:12     INFO: Returning 1 results.\n"
     ]
    },
    {
     "name": "stderr",
     "output_type": "stream",
     "text": [
      "                    proc 2023/09/27 08:58:12     INFO: Loading init_filter={'sim_name': 'surr_all_equal', 'surrogate_k': 0, 'method': 1, 'random_seed': 9} compute_filter={'window_shape': 'hann', 'window_length': <Quantity(1, 'second')>, 'fit_k': True} from proc/suw.meth.19/e0831fde06075fe0.p, last modified 2023-09-27 08:50:44.\n"
     ]
    },
    {
     "name": "stdout",
     "output_type": "stream",
     "text": [
      "Loading data for method 1 and seed 9\n"
     ]
    },
    {
     "name": "stderr",
     "output_type": "stream",
     "text": [
      "                    proc 2023/09/27 08:58:12     INFO: Returning 1 results.\n"
     ]
    },
    {
     "name": "stderr",
     "output_type": "stream",
     "text": [
      "                    proc 2023/09/27 08:58:12     INFO: Loading init_filter={'sim_name': 'surr_all_equal', 'surrogate_k': 0, 'method': 1, 'random_seed': 10} compute_filter={'window_shape': 'hann', 'window_length': <Quantity(1, 'second')>, 'fit_k': True} from proc/suw.meth.110/c34002087a59e9a1.p, last modified 2023-09-27 08:50:47.\n"
     ]
    },
    {
     "name": "stdout",
     "output_type": "stream",
     "text": [
      "Loading data for method 1 and seed 10\n"
     ]
    },
    {
     "name": "stderr",
     "output_type": "stream",
     "text": [
      "                    proc 2023/09/27 08:58:13     INFO: Returning 1 results.\n"
     ]
    },
    {
     "name": "stderr",
     "output_type": "stream",
     "text": [
      "                    proc 2023/09/27 08:58:13     INFO: Loading init_filter={'sim_name': 'surr_all_equal', 'surrogate_k': 0, 'method': 1, 'random_seed': 11} compute_filter={'window_shape': 'hann', 'window_length': <Quantity(1, 'second')>, 'fit_k': True} from proc/suw.meth.111/45917d32eaa10a26.p, last modified 2023-09-27 08:50:47.\n"
     ]
    },
    {
     "name": "stdout",
     "output_type": "stream",
     "text": [
      "Loading data for method 1 and seed 11\n"
     ]
    },
    {
     "name": "stderr",
     "output_type": "stream",
     "text": [
      "                    proc 2023/09/27 08:58:13     INFO: Returning 1 results.\n"
     ]
    },
    {
     "name": "stderr",
     "output_type": "stream",
     "text": [
      "                    proc 2023/09/27 08:58:13     INFO: Loading init_filter={'sim_name': 'surr_all_equal', 'surrogate_k': 0, 'method': 1, 'random_seed': 12} compute_filter={'window_shape': 'hann', 'window_length': <Quantity(1, 'second')>, 'fit_k': True} from proc/suw.meth.112/edd1808682d851bc.p, last modified 2023-09-27 08:50:48.\n"
     ]
    },
    {
     "name": "stdout",
     "output_type": "stream",
     "text": [
      "Loading data for method 1 and seed 12\n"
     ]
    },
    {
     "name": "stderr",
     "output_type": "stream",
     "text": [
      "                    proc 2023/09/27 08:58:14     INFO: Returning 1 results.\n"
     ]
    },
    {
     "name": "stderr",
     "output_type": "stream",
     "text": [
      "                    proc 2023/09/27 08:58:14     INFO: Loading init_filter={'sim_name': 'surr_all_equal', 'surrogate_k': 0, 'method': 1, 'random_seed': 13} compute_filter={'window_shape': 'hann', 'window_length': <Quantity(1, 'second')>, 'fit_k': True} from proc/suw.meth.113/b84a11545a63ec69.p, last modified 2023-09-27 08:50:44.\n"
     ]
    },
    {
     "name": "stdout",
     "output_type": "stream",
     "text": [
      "Loading data for method 1 and seed 13\n"
     ]
    },
    {
     "name": "stderr",
     "output_type": "stream",
     "text": [
      "                    proc 2023/09/27 08:58:14     INFO: Returning 1 results.\n"
     ]
    },
    {
     "name": "stderr",
     "output_type": "stream",
     "text": [
      "                    proc 2023/09/27 08:58:14     INFO: Loading init_filter={'sim_name': 'surr_all_equal', 'surrogate_k': 0, 'method': 1, 'random_seed': 14} compute_filter={'window_shape': 'hann', 'window_length': <Quantity(1, 'second')>, 'fit_k': True} from proc/suw.meth.114/2ed4d67ade77fc82.p, last modified 2023-09-27 08:50:48.\n"
     ]
    },
    {
     "name": "stdout",
     "output_type": "stream",
     "text": [
      "Loading data for method 1 and seed 14\n"
     ]
    },
    {
     "name": "stderr",
     "output_type": "stream",
     "text": [
      "                    proc 2023/09/27 08:58:14     INFO: Returning 1 results.\n"
     ]
    },
    {
     "name": "stderr",
     "output_type": "stream",
     "text": [
      "                    proc 2023/09/27 08:58:15     INFO: Loading init_filter={'sim_name': 'surr_all_equal', 'surrogate_k': 0, 'method': 1, 'random_seed': 15} compute_filter={'window_shape': 'hann', 'window_length': <Quantity(1, 'second')>, 'fit_k': True} from proc/suw.meth.115/6724f6363f09b9f3.p, last modified 2023-09-27 08:50:55.\n"
     ]
    },
    {
     "name": "stdout",
     "output_type": "stream",
     "text": [
      "Loading data for method 1 and seed 15\n"
     ]
    },
    {
     "name": "stderr",
     "output_type": "stream",
     "text": [
      "                    proc 2023/09/27 08:58:15     INFO: Returning 1 results.\n"
     ]
    },
    {
     "name": "stderr",
     "output_type": "stream",
     "text": [
      "                    proc 2023/09/27 08:58:15     INFO: Loading init_filter={'sim_name': 'surr_all_equal', 'surrogate_k': 0, 'method': 1, 'random_seed': 16} compute_filter={'window_shape': 'hann', 'window_length': <Quantity(1, 'second')>, 'fit_k': True} from proc/suw.meth.116/99eed3f5a90ad1ef.p, last modified 2023-09-27 08:50:53.\n"
     ]
    },
    {
     "name": "stdout",
     "output_type": "stream",
     "text": [
      "Loading data for method 1 and seed 16\n"
     ]
    },
    {
     "name": "stderr",
     "output_type": "stream",
     "text": [
      "                    proc 2023/09/27 08:58:15     INFO: Returning 1 results.\n"
     ]
    },
    {
     "name": "stderr",
     "output_type": "stream",
     "text": [
      "                    proc 2023/09/27 08:58:15     INFO: Loading init_filter={'sim_name': 'surr_all_equal', 'surrogate_k': 0, 'method': 1, 'random_seed': 17} compute_filter={'window_shape': 'hann', 'window_length': <Quantity(1, 'second')>, 'fit_k': True} from proc/suw.meth.117/89b4e25956b3b1ca.p, last modified 2023-09-27 08:50:48.\n"
     ]
    },
    {
     "name": "stdout",
     "output_type": "stream",
     "text": [
      "Loading data for method 1 and seed 17\n"
     ]
    },
    {
     "name": "stderr",
     "output_type": "stream",
     "text": [
      "                    proc 2023/09/27 08:58:16     INFO: Returning 1 results.\n"
     ]
    },
    {
     "name": "stderr",
     "output_type": "stream",
     "text": [
      "                    proc 2023/09/27 08:58:16     INFO: Loading init_filter={'sim_name': 'surr_all_equal', 'surrogate_k': 0, 'method': 1, 'random_seed': 18} compute_filter={'window_shape': 'hann', 'window_length': <Quantity(1, 'second')>, 'fit_k': True} from proc/suw.meth.118/106522f773c60af0.p, last modified 2023-09-27 08:50:43.\n"
     ]
    },
    {
     "name": "stdout",
     "output_type": "stream",
     "text": [
      "Loading data for method 1 and seed 18\n"
     ]
    },
    {
     "name": "stderr",
     "output_type": "stream",
     "text": [
      "                    proc 2023/09/27 08:58:16     INFO: Returning 1 results.\n"
     ]
    },
    {
     "name": "stderr",
     "output_type": "stream",
     "text": [
      "                    proc 2023/09/27 08:58:16     INFO: Loading init_filter={'sim_name': 'surr_all_equal', 'surrogate_k': 0, 'method': 1, 'random_seed': 19} compute_filter={'window_shape': 'hann', 'window_length': <Quantity(1, 'second')>, 'fit_k': True} from proc/suw.meth.119/6c4c23522bc31071.p, last modified 2023-09-27 08:50:49.\n"
     ]
    },
    {
     "name": "stdout",
     "output_type": "stream",
     "text": [
      "Loading data for method 1 and seed 19\n"
     ]
    },
    {
     "name": "stderr",
     "output_type": "stream",
     "text": [
      "                    proc 2023/09/27 08:58:17     INFO: Returning 1 results.\n"
     ]
    }
   ],
   "source": [
    "data = {}\n",
    "for pw in \"pw\":\n",
    "    for m in [0,1]:\n",
    "        for i in range(20):\n",
    "            print(\"Loading data for method\", m, \"and seed\", i)\n",
    "            init = {\"sim_name\":\"surr_all_equal\", \"surrogate_k\":{\"p\":4,\"w\":0}[pw], \"method\":m, \"random_seed\":i}\n",
    "            data[f\"s={pw}{m}_{i}\"] =   proc.load_data(init_filter = init,\n",
    "                                                   compute_filter = {\"window_shape\":'hann',\n",
    "                                                 \"window_length\":1 * UNITS.second,\n",
    "                                                                     \"fit_k\":True})[0]\n",
    "            \n",
    "        \n"
   ]
  },
  {
   "cell_type": "code",
   "execution_count": 69,
   "metadata": {
    "autoscroll": false,
    "collapsed": false,
    "ein.hycell": false,
    "ein.tags": "worksheet-0",
    "slideshow": {
     "slide_type": "-"
    }
   },
   "outputs": [],
   "source": [
    "dd = list(data[\"s=w0_1\"][\"sims\"].keys())"
   ]
  },
  {
   "cell_type": "code",
   "execution_count": 70,
   "metadata": {
    "autoscroll": false,
    "collapsed": false,
    "ein.hycell": false,
    "ein.tags": "worksheet-0",
    "slideshow": {
     "slide_type": "-"
    }
   },
   "outputs": [
    {
     "data": {
      "text/plain": [
       "(1500, 16)"
      ]
     },
     "execution_count": 70,
     "metadata": {},
     "output_type": "execute_result"
    }
   ],
   "source": [
    "data[\"s=w0_1\"][\"sim0\"][\"c\"].shape"
   ]
  },
  {
   "cell_type": "code",
   "execution_count": 101,
   "metadata": {
    "autoscroll": false,
    "collapsed": false,
    "ein.hycell": false,
    "ein.tags": "worksheet-0",
    "slideshow": {
     "slide_type": "-"
    }
   },
   "outputs": [],
   "source": [
    "pw = \"p\"\n",
    "c0 = np.array([data[f\"s={pw}0_{i}\"][\"sim0\"][\"c\"] for i in range(20)])\n",
    "s0 = np.array([data[f\"s={pw}0_{i}\"][\"sim0\"][\"s\"] for i in range(20)])\n",
    "c1 = np.array([data[f\"s={pw}1_{i}\"][\"sim0\"][\"c\"] for i in range(20)])\n",
    "s1 = np.array([data[f\"s={pw}1_{i}\"][\"sim0\"][\"s\"] for i in range(20)])\n"
   ]
  },
  {
   "cell_type": "code",
   "execution_count": 102,
   "metadata": {
    "autoscroll": false,
    "collapsed": false,
    "ein.hycell": false,
    "ein.tags": "worksheet-0",
    "slideshow": {
     "slide_type": "-"
    }
   },
   "outputs": [
    {
     "data": {
      "text/plain": [
       "(20, 1500, 16)"
      ]
     },
     "execution_count": 102,
     "metadata": {},
     "output_type": "execute_result"
    }
   ],
   "source": [
    "c0.shape"
   ]
  },
  {
   "cell_type": "code",
   "execution_count": 119,
   "metadata": {
    "autoscroll": false,
    "collapsed": false,
    "ein.hycell": false,
    "ein.tags": "worksheet-0",
    "slideshow": {
     "slide_type": "-"
    }
   },
   "outputs": [],
   "source": [
    "n_freq =c0.shape[1]\n",
    "nt = 2*n_freq + 1\n",
    "fs = 50\n",
    "f = arange(n_freq)/nt*fs\n",
    "k = {\"p\":4, \"w\":0}\n",
    "a = 1/(np.maximum(f,1)**2)"
   ]
  },
  {
   "cell_type": "code",
   "execution_count": 126,
   "metadata": {
    "autoscroll": false,
    "collapsed": false,
    "ein.hycell": false,
    "ein.tags": "worksheet-0",
    "slideshow": {
     "slide_type": "-"
    }
   },
   "outputs": [],
   "source": [
    "c0_ = c0 * a[None,:,None]\n",
    "s0_ = s0 * a[None,:,None]\n",
    "c1_ = c1 * a[None,:,None]\n",
    "s1_ = s1 * a[None,:,None]"
   ]
  },
  {
   "cell_type": "code",
   "execution_count": 79,
   "metadata": {
    "autoscroll": false,
    "collapsed": false,
    "ein.hycell": false,
    "ein.tags": "worksheet-0",
    "slideshow": {
     "slide_type": "-"
    }
   },
   "outputs": [],
   "source": [
    "plt.style.use(\"default\")"
   ]
  },
  {
   "cell_type": "code",
   "execution_count": 136,
   "metadata": {
    "autoscroll": false,
    "collapsed": false,
    "ein.hycell": false,
    "ein.tags": "worksheet-0",
    "slideshow": {
     "slide_type": "-"
    }
   },
   "outputs": [
    {
     "name": "stdout",
     "output_type": "stream",
     "text": [
      "0.99891614557197\n"
     ]
    },
    {
     "data": {
      "text/plain": [
       "(-0.028187852242449605,\n 0.05446955730855625,\n -0.028187852242449605,\n 0.05446955730855625)"
      ]
     },
     "execution_count": 136,
     "metadata": {},
     "output_type": "execute_result"
    },
    {
     "data": {
      "image/png": "[encoded data removed]",
      "text/plain": [
       "<Figure size 1000x500 with 3 Axes>"
      ]
     },
     "metadata": {},
     "output_type": "display_data"
    }
   ],
   "source": [
    "figure(figsize=(10,5))\n",
    "C0 = np.mean([cov(c0_[i].T) for i in range(20)], axis=0)\n",
    "C1 = np.mean([cov(c1_[i].T) for i in range(20)], axis=0)\n",
    "subplot(1,3,1); matshow(C0, fignum=False)\n",
    "subplot(1,3,2); matshow(C1, fignum=False)\n",
    "print(corrcoef(C0.flatten(), C1.flatten())[0,1])\n",
    "subplot(1,3,3); scatter(C0.flatten(), C1.flatten(), s=1); plot(xlim(), xlim(), \"r--\"); axis(\"square\")"
   ]
  },
  {
   "cell_type": "code",
   "execution_count": 95,
   "metadata": {
    "autoscroll": false,
    "collapsed": false,
    "ein.hycell": false,
    "ein.tags": "worksheet-0",
    "slideshow": {
     "slide_type": "-"
    }
   },
   "outputs": [
    {
     "data": {
      "text/plain": [
       "27.309659016724037"
      ]
     },
     "execution_count": 95,
     "metadata": {},
     "output_type": "execute_result"
    }
   ],
   "source": [
    "norm(c0[:,1,:]-c1[:,1,:])"
   ]
  },
  {
   "cell_type": "code",
   "execution_count": 91,
   "metadata": {
    "autoscroll": false,
    "collapsed": false,
    "ein.hycell": false,
    "ein.tags": "worksheet-0",
    "slideshow": {
     "slide_type": "-"
    }
   },
   "outputs": [
    {
     "data": {
      "text/plain": [
       "(20, 20)"
      ]
     },
     "execution_count": 91,
     "metadata": {},
     "output_type": "execute_result"
    }
   ],
   "source": [
    "cov(X0).shape"
   ]
  },
  {
   "cell_type": "code",
   "execution_count": 90,
   "metadata": {
    "autoscroll": false,
    "collapsed": false,
    "ein.hycell": false,
    "ein.tags": "worksheet-0",
    "slideshow": {
     "slide_type": "-"
    }
   },
   "outputs": [
    {
     "data": {
      "text/plain": [
       "(20, 16)"
      ]
     },
     "execution_count": 90,
     "metadata": {},
     "output_type": "execute_result"
    }
   ],
   "source": [
    "X0.shape"
   ]
  },
  {
   "cell_type": "code",
   "execution_count": 72,
   "metadata": {
    "autoscroll": false,
    "collapsed": false,
    "ein.hycell": false,
    "ein.tags": "worksheet-0",
    "slideshow": {
     "slide_type": "-"
    }
   },
   "outputs": [
    {
     "data": {
      "text/plain": [
       "(20, 1500, 16)"
      ]
     },
     "execution_count": 72,
     "metadata": {},
     "output_type": "execute_result"
    }
   ],
   "source": [
    "c0.shape"
   ]
  },
  {
   "cell_type": "code",
   "execution_count": null,
   "metadata": {
    "autoscroll": false,
    "collapsed": false,
    "ein.hycell": false,
    "ein.tags": "worksheet-0",
    "slideshow": {
     "slide_type": "-"
    }
   },
   "outputs": [],
   "source": []
  }
 ],
 "metadata": {
  "kernelspec": {
   "display_name": "Python 3",
   "name": "python3"
  },
  "name": "debug.ipynb"
 },
 "nbformat": 4,
 "nbformat_minor": 4
}
