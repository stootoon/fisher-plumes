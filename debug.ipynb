{
 "cells": [
  {
   "cell_type": "code",
   "execution_count": 22,
   "metadata": {
    "autoscroll": false,
    "collapsed": false,
    "ein.hycell": false,
    "ein.tags": "worksheet-0",
    "slideshow": {
     "slide_type": "-"
    }
   },
   "outputs": [
    {
     "name": "stdout",
     "output_type": "stream",
     "text": [
      "Populating the interactive namespace from numpy and matplotlib\n"
     ]
    }
   ],
   "source": [
    "%pylab inline\n",
    "import os, sys, pickle\n",
    "from importlib import reload\n",
    "plt.style.use(\"default\")"
   ]
  },
  {
   "cell_type": "code",
   "execution_count": 23,
   "metadata": {
    "autoscroll": false,
    "collapsed": false,
    "ein.hycell": false,
    "ein.tags": "worksheet-0",
    "slideshow": {
     "slide_type": "-"
    }
   },
   "outputs": [],
   "source": [
    "import fisher_plumes_tools as fpt; reload(fpt);"
   ]
  },
  {
   "cell_type": "markdown",
   "metadata": {
    "ein.tags": "worksheet-0",
    "slideshow": {
     "slide_type": "-"
    }
   },
   "source": [
    "# Notebook for debugging"
   ]
  },
  {
   "cell_type": "markdown",
   "metadata": {
    "ein.tags": "worksheet-0",
    "slideshow": {
     "slide_type": "-"
    }
   },
   "source": [
    "## Updating the pooling functions"
   ]
  },
  {
   "cell_type": "markdown",
   "metadata": {
    "ein.tags": "worksheet-0",
    "slideshow": {
     "slide_type": "-"
    }
   },
   "source": [
    "The pooling functions have always been complicated.\n",
    "We can't just precompute because the data is very large.\n",
    "But we can have a pool_for_distance function."
   ]
  },
  {
   "cell_type": "code",
   "execution_count": null,
   "metadata": {
    "autoscroll": false,
    "collapsed": false,
    "ein.hycell": false,
    "ein.tags": "worksheet-0",
    "slideshow": {
     "slide_type": "-"
    }
   },
   "outputs": [],
   "source": [
    "def pool_for_distance(F,d ):\n",
    "    # What we want is, for each probe,\n",
    "    # a two row matrix consisting of all coefficients at one y location\n",
    "    # vs corresponding coefficients at the other.\n",
    "    # ss: ss[probe][dist][bs,time,fr]\n",
    "    dists = sorted(list(F.pairs.keys()))    \n",
    "    cs_0 = [np.concatenate([coef_prb[y0] for (ss_prb,cc_prb) in zip(Fbw.ss, Fbw.cc) for coef_prb in [ss_prb, cc_prb]], axis=1) for (y0,y1) in Fbw.pairs[dists[1]]]\n",
    "    cs_1 = [np.concatenate([coef_prb[y1] for (ss_prb,cc_prb) in zip(Fbw.ss, Fbw.cc) for coef_prb in [ss_prb, cc_prb]], axis=1) for (y0,y1) in Fbw.pairs[dists[1]]]\n",
    "    return [np.hstack((cs_0i,cs_1i))\n",
    "\n",
    "    \n",
    "    "
   ]
  },
  {
   "cell_type": "markdown",
   "metadata": {
    "ein.tags": "worksheet-0",
    "slideshow": {
     "slide_type": "-"
    }
   },
   "source": [
    "## Problem with the curve fits"
   ]
  },
  {
   "cell_type": "markdown",
   "metadata": {
    "ein.tags": "worksheet-0",
    "slideshow": {
     "slide_type": "-"
    }
   },
   "source": [
    "We're getting this error when we run ```fpt.fit_gen_exp_no_amp```:\n",
    "RuntimeError: Optimal parameters not found: The maximum number of function evaluations is exceeded.\n",
    "The data is in dumpiffail.p, so let's have a look."
   ]
  },
  {
   "cell_type": "code",
   "execution_count": 1,
   "metadata": {
    "autoscroll": false,
    "collapsed": false,
    "ein.hycell": false,
    "ein.tags": "worksheet-0",
    "slideshow": {
     "slide_type": "-"
    }
   },
   "outputs": [],
   "source": [
    "# fit_gen_exp_no_amp = lambda d, la, a: curve_fit(lambda d, s, k, b: gen_exp(d, a, s, k, b),\n",
    "#                                                 d, la,\n",
    "#                                                 p0=[1,1,0],\n",
    "#                                                 maxfev=5000,                                                \n",
    "#                                                 bounds=(0, np.inf))[0]"
   ]
  },
  {
   "cell_type": "code",
   "execution_count": 34,
   "metadata": {
    "autoscroll": false,
    "collapsed": false,
    "ein.hycell": false,
    "ein.tags": "worksheet-0",
    "slideshow": {
     "slide_type": "-"
    }
   },
   "outputs": [
    {
     "name": "stdout",
     "output_type": "stream",
     "text": [
      "{'ifreq': 6, 'ibs': 4, 'iprobe': 0}\n"
     ]
    }
   ],
   "source": [
    "with open(\"dumpiffail.p\", \"rb\") as f:\n",
    "    data     = pickle.load(f)\n",
    "    d, la, a = data[\"args\"]\n",
    "    extra   = data[\"extra\"]\n",
    "    print(extra)\n",
    "    \n",
    "\n"
   ]
  },
  {
   "cell_type": "code",
   "execution_count": 36,
   "metadata": {
    "autoscroll": false,
    "collapsed": false,
    "ein.hycell": false,
    "ein.tags": "worksheet-0",
    "slideshow": {
     "slide_type": "-"
    }
   },
   "outputs": [
    {
     "data": {
      "text/plain": [
       "(array([0.        , 0.21693046, 0.43386092, 0.65079137, 0.86772183,\n        1.08465229, 1.30158275, 1.5185132 , 1.73544366, 1.95237412,\n        2.16930458, 2.38623504, 2.60316549, 2.82009595, 3.03702641,\n        3.25395687]),\n array([0.04478692, 0.03412745, 0.02912778, 0.0243314 , 0.02189136,\n        0.02010331, 0.01952378, 0.01935054, 0.01936651, 0.01991081,\n        0.02040515, 0.02194842, 0.02380797, 0.02569658, 0.02590159,\n        0.02814492]),\n 0.02369497783454681)"
      ]
     },
     "execution_count": 36,
     "metadata": {},
     "output_type": "execute_result"
    }
   ],
   "source": [
    "d, la, a"
   ]
  },
  {
   "cell_type": "code",
   "execution_count": 35,
   "metadata": {
    "autoscroll": false,
    "collapsed": false,
    "ein.hycell": false,
    "ein.tags": "worksheet-0",
    "slideshow": {
     "slide_type": "-"
    }
   },
   "outputs": [
    {
     "data": {
      "text/plain": [
       "<matplotlib.legend.Legend at 0x7f5aa92303a0>"
      ]
     },
     "execution_count": 35,
     "metadata": {},
     "output_type": "execute_result"
    },
    {
     "data": {
      "image/png": "[encoded data removed]",
      "text/plain": [
       "<Figure size 640x480 with 1 Axes>"
      ]
     },
     "metadata": {},
     "output_type": "display_data"
    }
   ],
   "source": [
    "plot(d, la, label=\"data\")\n",
    "plot(d, fpt.gen_exp(d,a,1,1,0), label=\"initial fit\")\n",
    "legend()"
   ]
  },
  {
   "cell_type": "code",
   "execution_count": 25,
   "metadata": {
    "autoscroll": false,
    "collapsed": false,
    "ein.hycell": false,
    "ein.tags": "worksheet-0",
    "slideshow": {
     "slide_type": "-"
    }
   },
   "outputs": [
    {
     "data": {
      "text/plain": [
       "0.02369497783454681"
      ]
     },
     "execution_count": 25,
     "metadata": {},
     "output_type": "execute_result"
    }
   ],
   "source": [
    "a"
   ]
  },
  {
   "cell_type": "code",
   "execution_count": 26,
   "metadata": {
    "autoscroll": false,
    "collapsed": false,
    "ein.hycell": false,
    "ein.tags": "worksheet-0",
    "slideshow": {
     "slide_type": "-"
    }
   },
   "outputs": [
    {
     "data": {
      "text/plain": [
       "0.04478692423549721"
      ]
     },
     "execution_count": 26,
     "metadata": {},
     "output_type": "execute_result"
    }
   ],
   "source": [
    "la[0]"
   ]
  },
  {
   "cell_type": "code",
   "execution_count": null,
   "metadata": {
    "autoscroll": false,
    "collapsed": false,
    "ein.hycell": false,
    "ein.tags": "worksheet-0",
    "slideshow": {
     "slide_type": "-"
    }
   },
   "outputs": [],
   "source": []
  }
 ],
 "metadata": {
  "kernelspec": {
   "display_name": "Python 3",
   "name": "python3"
  },
  "name": "debug.ipynb"
 },
 "nbformat": 4,
 "nbformat_minor": 4
}
