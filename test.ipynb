{
 "cells": [
  {
   "cell_type": "code",
   "execution_count": 1,
   "metadata": {
    "autoscroll": false,
    "collapsed": false,
    "ein.hycell": false,
    "ein.tags": "worksheet-0",
    "slideshow": {
     "slide_type": "-"
    }
   },
   "outputs": [
    {
     "name": "stdout",
     "output_type": "stream",
     "text": [
      "Populating the interactive namespace from numpy and matplotlib\n"
     ]
    }
   ],
   "source": [
    "%pylab inline"
   ]
  },
  {
   "cell_type": "code",
   "execution_count": 2,
   "metadata": {
    "autoscroll": false,
    "collapsed": false,
    "ein.hycell": false,
    "ein.tags": "worksheet-0",
    "slideshow": {
     "slide_type": "-"
    }
   },
   "outputs": [],
   "source": [
    "from importlib import reload"
   ]
  },
  {
   "cell_type": "code",
   "execution_count": 7,
   "metadata": {
    "autoscroll": false,
    "collapsed": false,
    "ein.hycell": false,
    "ein.tags": "worksheet-0",
    "slideshow": {
     "slide_type": "-"
    }
   },
   "outputs": [
    {
     "data": {
      "text/plain": [
       "<module 'utils' from '/camp/lab/schaefera/working/tootoos/git/fisher-plumes/utils.py'>"
      ]
     },
     "execution_count": 7,
     "metadata": {},
     "output_type": "execute_result"
    }
   ],
   "source": [
    "import utils; reload(utils)"
   ]
  },
  {
   "cell_type": "code",
   "execution_count": 240,
   "metadata": {
    "autoscroll": false,
    "collapsed": false,
    "ein.hycell": false,
    "ein.tags": "worksheet-0",
    "slideshow": {
     "slide_type": "-"
    }
   },
   "outputs": [
    {
     "name": "stderr",
     "output_type": "stream",
     "text": [
      "INFO:boulder:\n",
      "Boulder simulation data available for:\n"
     ]
    },
    {
     "name": "stderr",
     "output_type": "stream",
     "text": [
      "INFO:boulder:Re100_0_5mm_50Hz_16source_wideDomain.old.h5     : ['Odor Data/c1a', 'Odor Data/c1b', 'Odor Data/c2a', 'Odor Data/c2b', 'Odor Data/c3a', 'Odor Data/c3b', 'Odor Data/c4a', 'Odor Data/c4b', 'Odor Data/c5a', 'Odor Data/c5b', 'Odor Data/c6a', 'Odor Data/c6b', 'Odor Data/c7a', 'Odor Data/c7b', 'Odor Data/c8a', 'Odor Data/c8b'] (16 datasets)\n"
     ]
    },
    {
     "name": "stderr",
     "output_type": "stream",
     "text": [
      "           fisher_plumes 2022/10/07 16:17:03     INFO: sim_name=<fisher_plumes.FisherPlumes object at 0x7fd453da4b80> was not a string, assuming it's a FisherPlumes object.\n"
     ]
    },
    {
     "name": "stderr",
     "output_type": "stream",
     "text": [
      "           fisher_plumes 2022/10/07 16:17:03     INFO: Attempting to copy data fields.\n"
     ]
    },
    {
     "name": "stderr",
     "output_type": "stream",
     "text": [
      "           fisher_plumes 2022/10/07 16:17:03     INFO: Copied data fields from FisherPlumes object.\n"
     ]
    }
   ],
   "source": [
    "import boulder; reload(boulder)\n",
    "import fisher_plumes_tools as fpt; reload(fpt)\n",
    "import fisher_plumes as fp; reload(fp)\n",
    "FisherPlumes = fp.FisherPlumes\n",
    "\n",
    "force_reload = False\n",
    "if force_reload or ('FP' not in locals()):\n",
    "    pairs_mode = \"unsigned\"\n",
    "    FP = FisherPlumes(\"boulder16\", which_coords = [(0.45, 0.5)], py_mode = \"relative\", suffix = 'wideDomain.old',\n",
    "                      n_bootstraps = 10,\n",
    "                      random_seed  = 0)\n",
    "else:\n",
    "    FP = FisherPlumes(FP)"
   ]
  },
  {
   "cell_type": "code",
   "execution_count": 241,
   "metadata": {
    "autoscroll": false,
    "collapsed": false,
    "ein.hycell": false,
    "ein.tags": "worksheet-0",
    "slideshow": {
     "slide_type": "-"
    }
   },
   "outputs": [
    {
     "name": "stderr",
     "output_type": "stream",
     "text": [
      "           fisher_plumes 2022/10/07 16:17:04     INFO: Window set to self.wnd=50.\n"
     ]
    },
    {
     "name": "stderr",
     "output_type": "stream",
     "text": [
      "           fisher_plumes 2022/10/07 16:17:04     INFO: Computing trig coefficients for boulder16 with istart=0 and tukey_param=0.1 and kwargs={}\n"
     ]
    },
    {
     "name": "stderr",
     "output_type": "stream",
     "text": [
      "           fisher_plumes 2022/10/07 16:17:04     INFO: Computing amplitude of generalized gaussian fits to λ(s).\n"
     ]
    },
    {
     "name": "stderr",
     "output_type": "stream",
     "text": [
      "           fisher_plumes 2022/10/07 16:17:04     INFO: Computing correlations from trig coefficients.\n"
     ]
    },
    {
     "name": "stderr",
     "output_type": "stream",
     "text": [
      "           fisher_plumes 2022/10/07 16:17:04     INFO: Computing lambdas.\n"
     ]
    },
    {
     "name": "stderr",
     "output_type": "stream",
     "text": [
      "           fisher_plumes 2022/10/07 16:17:04     INFO: Creating pooling functions.\n"
     ]
    }
   ],
   "source": [
    "FP.set_window(50)\n"
   ]
  },
  {
   "cell_type": "code",
   "execution_count": null,
   "metadata": {
    "autoscroll": false,
    "collapsed": false,
    "ein.hycell": false,
    "ein.tags": "worksheet-0",
    "slideshow": {
     "slide_type": "-"
    }
   },
   "outputs": [],
   "source": []
  }
 ],
 "metadata": {
  "kernelspec": {
   "display_name": "Python 3",
   "name": "python3"
  },
  "name": "test.ipynb"
 },
 "nbformat": 4,
 "nbformat_minor": 4
}
